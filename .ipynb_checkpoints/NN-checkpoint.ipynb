{
 "cells": [
  {
   "cell_type": "code",
   "execution_count": 1,
   "metadata": {},
   "outputs": [],
   "source": [
    "import numpy as np\n",
    "import pandas as pd\n",
    "from pandas import read_csv\n",
    "from imblearn.under_sampling import RandomUnderSampler\n",
    "from sklearn.preprocessing import MinMaxScaler\n",
    "from sklearn.model_selection import train_test_split\n",
    "import matplotlib.pyplot as plt\n",
    "from models.NeuralNetwork import NeuralNetwork"
   ]
  },
  {
   "cell_type": "code",
   "execution_count": 2,
   "metadata": {},
   "outputs": [],
   "source": [
    "filename = \"adult.csv\"\n",
    "data = read_csv(filename,delimiter=\",\", na_values=\"?\")\n",
    "\n",
    "#class_counts = data.groupby('income').size()\n",
    "#print(class_counts)\n",
    "\n",
    "\"\"\"\n",
    "Imputation\n",
    "\"\"\"\n",
    "null_columns =['workclass','occupation','native.country']\n",
    "for i in null_columns:\n",
    "    data.fillna(data[i].mode()[0], inplace=True)\n",
    "    \n",
    "\"\"\"\n",
    "Factorize\n",
    "\"\"\"  \n",
    "data['income'] = data['income'].replace({'<=50K':0, '>50K':1})\n",
    "data['sex'] = data['sex'].replace({'Female':0, 'Male':1})\n",
    "data['race'] = data['race'].replace({'White':0, 'Black':1, 'Asian-Pac-Islander':2, 'Other':3,'Amer-Indian-Eskimo':4})\n",
    "data['workclass'] = data['workclass'].replace({'Private':0, 'State-gov':1, 'Federal-gov':2, 'Self-emp-not-inc':3,\n",
    "       'Self-emp-inc':4, 'Local-gov':5, 'Without-pay':6, 'Never-worked':7})\n",
    "data['native.country'] = data['native.country'].replace({'United-States':0, 'Private':1, 'Mexico':2, 'Greece':3, 'Vietnam':4, 'China':5,\n",
    "       'Taiwan':6, 'India':7, 'Philippines':8, 'Trinadad&Tobago':9, 'Canada':10,\n",
    "       'South':11, 'Holand-Netherlands':12, 'Puerto-Rico':13, 'Poland':14, 'Iran':15,\n",
    "       'England':16, 'Germany':17, 'Italy':18, 'Japan':19, 'Hong':20, 'Honduras':21, 'Cuba':22,\n",
    "       'Ireland':23, 'Cambodia':24, 'Peru':25, 'Nicaragua':26, 'Dominican-Republic':27,\n",
    "       'Haiti':28, 'El-Salvador':29, 'Hungary':30, 'Columbia':31, 'Guatemala':32,\n",
    "       'Jamaica':33, 'Ecuador':34, 'France':35, 'Yugoslavia':36, 'Scotland':37,\n",
    "       'Portugal':38, 'Laos':39, 'Thailand':40, 'Outlying-US(Guam-USVI-etc)':41})\n",
    "data['occupation'] = data['occupation'].replace({'Private':0, 'Exec-managerial':1, 'Machine-op-inspct':2,\n",
    "       'Prof-specialty':3, 'Other-service':4, 'Adm-clerical':5, 'Craft-repair':6,\n",
    "       'Transport-moving':7, 'Handlers-cleaners':8, 'Sales':9,\n",
    "       'Farming-fishing':10, 'Tech-support':11, 'Protective-serv':12,\n",
    "       'Armed-Forces':13, 'Priv-house-serv':14})\n",
    "data['relationship'] = data['relationship'].replace({'Not-in-family':0, 'Unmarried':1, 'Own-child':2, 'Other-relative':3,\n",
    "       'Husband':4, 'Wife':5})\n",
    "data['education'] = data['education'].replace({'HS-grad':0, 'Some-college':1, '7th-8th':2, '10th':3, 'Doctorate':4,\n",
    "       'Prof-school':5, 'Bachelors':6, 'Masters':7, '11th':8, 'Assoc-acdm':9,\n",
    "       'Assoc-voc':10, '1st-4th':11, '5th-6th':12, '12th':13, '9th':14, 'Preschool':15})\n",
    "data['marital.status'] = data['marital.status'].replace(['Never-married', 'Divorced', 'Separated', 'Widowed'], 'Single')\n",
    "data['marital.status'] = data['marital.status'].replace(['Married-civ-spouse', 'Married-spouse-absent', 'Married-AF-spouse'], 'Married')\n",
    "data['marital.status'] = data['marital.status'].map({'Married':1, 'Single':0})\n",
    "\n",
    "\n",
    "X = data.iloc[:,:14]\n",
    "y = data.iloc[:,14]\n",
    "\n",
    "\"\"\"\n",
    "Undersample\n",
    "\"\"\"  \n",
    "undersample = RandomUnderSampler(sampling_strategy='majority')\n",
    "X, y = undersample.fit_resample(X,y)\n",
    "\n",
    "\"\"\"\n",
    "Scaling\n",
    "\"\"\" \n",
    "scaler = MinMaxScaler(feature_range=(0,1))\n",
    "rescaledX = scaler.fit_transform(X)\n",
    "\n",
    "\"\"\"\n",
    "Splitting\n",
    "\"\"\"\n",
    "\n",
    "X_train, X_test, y_train, y_test = train_test_split(rescaledX,y.to_numpy(),test_size=0.2, random_state=1)\n"
   ]
  },
  {
   "cell_type": "code",
   "execution_count": 3,
   "metadata": {},
   "outputs": [],
   "source": [
    "def sample_batch(data,batch_size):\n",
    "    st_batch = data.shape[0] // batch_size\n",
    "    idx_end = st_batch * batch_size\n",
    "    batch = np.split(data[:idx_end], st_batch)\n",
    "    \n",
    "    if data.shape[0] % batch_size != 0:\n",
    "        batch += [data[idx_end:]]\n",
    "    \n",
    "    return batch"
   ]
  },
  {
   "cell_type": "code",
   "execution_count": 34,
   "metadata": {},
   "outputs": [
    {
     "name": "stdout",
     "output_type": "stream",
     "text": [
      "128\n"
     ]
    }
   ],
   "source": [
    "ys = log\n",
    "\n",
    "#print(train_idx.tolist())\n",
    "\n",
    "print( ys.shape[0])\n"
   ]
  },
  {
   "cell_type": "code",
   "execution_count": 22,
   "metadata": {},
   "outputs": [],
   "source": [
    "from sklearn.model_selection import StratifiedKFold\n",
    "\n",
    "def ml_model(X_train, y_train, model, optimizer, opt_attr, batch_size = 128, epochs = 100, folds = 10):\n",
    "    \n",
    "    splits = StratifiedKFold(n_splits = folds, shuffle = True)\n",
    "    \n",
    "    log = []\n",
    "    \n",
    "    for fold, (train_idx, valid_idx) in enumerate(splits.split(X_train, y_train)):\n",
    "        print(\"Fold:\", fold+1)\n",
    "                    \n",
    "        X_train_fold, y_train_fold = X_train[train_idx], y_train[train_idx]\n",
    "        X_valid_fold, y_valid_fold = X_train[valid_idx], y_train[valid_idx]\n",
    "    \n",
    "        \n",
    "        #return X_train, y_train, train_idx, valid_idx\n",
    "        \n",
    "        \n",
    "        for t in range(epochs):\n",
    "        \n",
    "            train_loss, train_acc = 0, 0\n",
    "            valid_loss, valid_acc = 0, 0   \n",
    "\n",
    "            X_t_batch = sample_batch(X_train_fold, batch_size)\n",
    "            y_t_batch = sample_batch(y_train_fold, batch_size)\n",
    "\n",
    "            X_v_batch = sample_batch(X_valid_fold, batch_size)\n",
    "            y_v_batch = sample_batch(y_valid_fold, batch_size)\n",
    "\n",
    "            for Xs, ys in zip(X_t_batch, y_t_batch):\n",
    "                                \n",
    "                nn.forward(Xs)\n",
    "                _, running_loss = nn.b_cross_entropy(ys, nn.A3)\n",
    "                train_loss += running_loss\n",
    "                _, _, train_acc = nn.predict(Xs,ys)\n",
    "\n",
    "                nn.backward(ys, nn.db_cross_entropy)\n",
    "                optimizer(attr=opt_attr)\n",
    "\n",
    "            \n",
    "            epoch_train_loss = train_loss / len(X_t_batch)\n",
    "            epoch_train_acc = train_acc / len(X_t_batch)\n",
    "            \n",
    "            print(\"Epoch: {:02d} - Loss: {:.4f} - Acc: {:.4f} - \".format(t, epoch_train_loss, epoch_train_acc), end=\"\")\n",
    "            \n",
    "            vacc, vloss = [], []\n",
    "            \n",
    "            for Xs, ys in zip(X_v_batch, y_v_batch):            \n",
    "                \n",
    "                probs, _, valid_acc = nn.predict(Xs,ys)\n",
    "                _, running_loss = nn.b_cross_entropy(ys, probs)\n",
    "                valid_loss += running_loss\n",
    "                \n",
    "                vacc.append(valid_acc)\n",
    "                vloss.append(valid_loss)\n",
    "                \n",
    "            \n",
    "            epoch_valid_loss = valid_loss / len(X_v_batch)\n",
    "            epoch_valid_acc = valid_acc / len(X_v_batch)\n",
    "            \n",
    "            print(\"||\",valid_acc, valid_loss, len(X_v_batch),\"||\" , end=\" \")\n",
    "            \n",
    "            print(\"Val_Loss: {:.4f} - Val_Acc: {:.4f} - \".format(epoch_valid_loss, epoch_valid_acc))  \n",
    "            \n",
    "            print(vacc)\n",
    "            print(vloss)\n",
    "            \n",
    "            log.append([t, epoch_train_loss, epoch_train_acc, epoch_valid_loss, epoch_valid_acc])\n",
    "    \n",
    "    return pd.DataFrame(log, columns=[\"epochs\",\"T Loss\",\"T Accuracy\",\"V Loss\", \"V Accuracy\"])\n",
    "            \n",
    "            "
   ]
  },
  {
   "cell_type": "code",
   "execution_count": 24,
   "metadata": {},
   "outputs": [
    {
     "name": "stdout",
     "output_type": "stream",
     "text": [
      "Fold: 1\n",
      "Epoch: 00 - Loss: 0.6428 - Acc: 1.4828 - "
     ]
    },
    {
     "ename": "NameError",
     "evalue": "name 'vacc' is not defined",
     "output_type": "error",
     "traceback": [
      "\u001b[0;31m---------------------------------------------------------------------------\u001b[0m",
      "\u001b[0;31mNameError\u001b[0m                                 Traceback (most recent call last)",
      "\u001b[0;32m<ipython-input-24-3c84e56fdc25>\u001b[0m in \u001b[0;36m<module>\u001b[0;34m\u001b[0m\n\u001b[1;32m      2\u001b[0m \u001b[0mnn\u001b[0m \u001b[0;34m=\u001b[0m \u001b[0mNeuralNetwork\u001b[0m\u001b[0;34m(\u001b[0m\u001b[0minput_size\u001b[0m \u001b[0;34m=\u001b[0m \u001b[0mX\u001b[0m\u001b[0;34m.\u001b[0m\u001b[0mshape\u001b[0m\u001b[0;34m[\u001b[0m\u001b[0;36m1\u001b[0m\u001b[0;34m]\u001b[0m\u001b[0;34m,\u001b[0m \u001b[0mhidden_layer_size\u001b[0m \u001b[0;34m=\u001b[0m \u001b[0;36m3\u001b[0m\u001b[0;34m,\u001b[0m \u001b[0moutput_size\u001b[0m \u001b[0;34m=\u001b[0m \u001b[0;36m1\u001b[0m\u001b[0;34m)\u001b[0m\u001b[0;34m\u001b[0m\u001b[0;34m\u001b[0m\u001b[0m\n\u001b[1;32m      3\u001b[0m \u001b[0;34m\u001b[0m\u001b[0m\n\u001b[0;32m----> 4\u001b[0;31m log = ml_model(X_train, y_train, \n\u001b[0m\u001b[1;32m      5\u001b[0m                 \u001b[0mmodel\u001b[0m\u001b[0;34m=\u001b[0m\u001b[0mnn\u001b[0m\u001b[0;34m,\u001b[0m\u001b[0;34m\u001b[0m\u001b[0;34m\u001b[0m\u001b[0m\n\u001b[1;32m      6\u001b[0m                 \u001b[0moptimizer\u001b[0m\u001b[0;34m=\u001b[0m\u001b[0mnn\u001b[0m\u001b[0;34m.\u001b[0m\u001b[0mgd\u001b[0m\u001b[0;34m,\u001b[0m\u001b[0;34m\u001b[0m\u001b[0;34m\u001b[0m\u001b[0m\n",
      "\u001b[0;32m<ipython-input-22-a2f859a0b9f6>\u001b[0m in \u001b[0;36mml_model\u001b[0;34m(X_train, y_train, model, optimizer, opt_attr, batch_size, epochs, folds)\u001b[0m\n\u001b[1;32m     50\u001b[0m                 \u001b[0mvalid_loss\u001b[0m \u001b[0;34m+=\u001b[0m \u001b[0mrunning_loss\u001b[0m\u001b[0;34m\u001b[0m\u001b[0;34m\u001b[0m\u001b[0m\n\u001b[1;32m     51\u001b[0m \u001b[0;34m\u001b[0m\u001b[0m\n\u001b[0;32m---> 52\u001b[0;31m                 \u001b[0mvacc\u001b[0m\u001b[0;34m.\u001b[0m\u001b[0mappend\u001b[0m\u001b[0;34m(\u001b[0m\u001b[0mvalid_acc\u001b[0m\u001b[0;34m)\u001b[0m\u001b[0;34m\u001b[0m\u001b[0;34m\u001b[0m\u001b[0m\n\u001b[0m\u001b[1;32m     53\u001b[0m                 \u001b[0mvloss\u001b[0m\u001b[0;34m.\u001b[0m\u001b[0mappend\u001b[0m\u001b[0;34m(\u001b[0m\u001b[0mvalid_loss\u001b[0m\u001b[0;34m)\u001b[0m\u001b[0;34m\u001b[0m\u001b[0;34m\u001b[0m\u001b[0m\n\u001b[1;32m     54\u001b[0m \u001b[0;34m\u001b[0m\u001b[0m\n",
      "\u001b[0;31mNameError\u001b[0m: name 'vacc' is not defined"
     ]
    }
   ],
   "source": [
    "# Change number of hidden nodes\n",
    "nn = NeuralNetwork(input_size = X.shape[1], hidden_layer_size = 3, output_size = 1) \n",
    "\n",
    "log = ml_model(X_train, y_train, \n",
    "                model=nn, \n",
    "                optimizer=nn.gd, \n",
    "                opt_attr = {\"lr\":0.01},\n",
    "                batch_size = 128,\n",
    "                epochs = 1,\n",
    "                folds = 2)"
   ]
  },
  {
   "cell_type": "code",
   "execution_count": 15,
   "metadata": {},
   "outputs": [
    {
     "data": {
      "text/plain": [
       "[<matplotlib.lines.Line2D at 0x120077130>]"
      ]
     },
     "execution_count": 15,
     "metadata": {},
     "output_type": "execute_result"
    },
    {
     "data": {
      "image/png": "[encoded data removed]",
      "text/plain": [
       "<Figure size 864x864 with 1 Axes>"
      ]
     },
     "metadata": {
      "needs_background": "light"
     },
     "output_type": "display_data"
    }
   ],
   "source": [
    "fig, ax = plt.subplots(figsize=(12,12))\n",
    "ax.plot(log[\"epochs\"],log[\"T Loss\"], c=\"r\")\n",
    "ax.plot(log[\"epochs\"],log[\"T Accuracy\"], c=\"g\")\n",
    "ax.plot(log[\"epochs\"],log[\"V Loss\"], c=\"b\")\n",
    "ax.plot(log[\"epochs\"],log[\"V Accuracy\"], c=\"k\")"
   ]
  },
  {
   "cell_type": "code",
   "execution_count": 713,
   "metadata": {},
   "outputs": [
    {
     "name": "stdout",
     "output_type": "stream",
     "text": [
      "[1. 1. 0. ... 0. 1. 1.]\n",
      "80.29964934650941\n"
     ]
    }
   ],
   "source": [
    "_, prediction, accuracy = nn.predict(X_test,y_test.to_numpy())\n",
    "print(prediction)\n",
    "print(accuracy)"
   ]
  }
 ],
 "metadata": {
  "kernelspec": {
   "display_name": "Python 3",
   "language": "python",
   "name": "python3"
  },
  "language_info": {
   "codemirror_mode": {
    "name": "ipython",
    "version": 3
   },
   "file_extension": ".py",
   "mimetype": "text/x-python",
   "name": "python",
   "nbconvert_exporter": "python",
   "pygments_lexer": "ipython3",
   "version": "3.8.5"
  }
 },
 "nbformat": 4,
 "nbformat_minor": 4
}
