{
 "cells": [
  {
   "cell_type": "code",
   "execution_count": 1,
   "metadata": {},
   "outputs": [],
   "source": [
    "import numpy as np\n",
    "import pandas as pd\n",
    "from pandas import read_csv\n",
    "from imblearn.under_sampling import RandomUnderSampler\n",
    "from sklearn.preprocessing import MinMaxScaler\n",
    "from sklearn.model_selection import train_test_split\n",
    "import matplotlib.pyplot as plt\n",
    "from models.NeuralNetwork import NeuralNetwork"
   ]
  },
  {
   "cell_type": "code",
   "execution_count": null,
   "metadata": {},
   "outputs": [],
   "source": []
  },
  {
   "cell_type": "code",
   "execution_count": 2,
   "metadata": {},
   "outputs": [],
   "source": [
    "filename = \"adult.csv\"\n",
    "data = read_csv(filename,delimiter=\",\", na_values=\"?\")"
   ]
  },
  {
   "cell_type": "code",
   "execution_count": 3,
   "metadata": {},
   "outputs": [],
   "source": [
    "filename = \"adult.csv\"\n",
    "data = read_csv(filename,delimiter=\",\", na_values=\"?\")\n",
    "\n",
    "#class_counts = data.groupby('income').size()\n",
    "#print(class_counts)\n",
    "\n",
    "\"\"\"\n",
    "Imputation\n",
    "\"\"\"\n",
    "null_columns =['workclass','occupation','native.country']\n",
    "for i in null_columns:\n",
    "    data.fillna(data[i].mode()[0], inplace=True)\n",
    "    \n",
    "\"\"\"\n",
    "Factorize\n",
    "\"\"\"  \n",
    "data['income'] = data['income'].replace({'<=50K':0, '>50K':1})\n",
    "data['sex'] = data['sex'].replace({'Female':0, 'Male':1})\n",
    "data['race'] = data['race'].replace({'White':0, 'Black':1, 'Asian-Pac-Islander':2, 'Other':3,'Amer-Indian-Eskimo':4})\n",
    "data['workclass'] = data['workclass'].replace({'Private':0, 'State-gov':1, 'Federal-gov':2, 'Self-emp-not-inc':3,\n",
    "       'Self-emp-inc':4, 'Local-gov':5, 'Without-pay':6, 'Never-worked':7})\n",
    "data['native.country'] = data['native.country'].replace({'United-States':0, 'Private':1, 'Mexico':2, 'Greece':3, 'Vietnam':4, 'China':5,\n",
    "       'Taiwan':6, 'India':7, 'Philippines':8, 'Trinadad&Tobago':9, 'Canada':10,\n",
    "       'South':11, 'Holand-Netherlands':12, 'Puerto-Rico':13, 'Poland':14, 'Iran':15,\n",
    "       'England':16, 'Germany':17, 'Italy':18, 'Japan':19, 'Hong':20, 'Honduras':21, 'Cuba':22,\n",
    "       'Ireland':23, 'Cambodia':24, 'Peru':25, 'Nicaragua':26, 'Dominican-Republic':27,\n",
    "       'Haiti':28, 'El-Salvador':29, 'Hungary':30, 'Columbia':31, 'Guatemala':32,\n",
    "       'Jamaica':33, 'Ecuador':34, 'France':35, 'Yugoslavia':36, 'Scotland':37,\n",
    "       'Portugal':38, 'Laos':39, 'Thailand':40, 'Outlying-US(Guam-USVI-etc)':41})\n",
    "data['occupation'] = data['occupation'].replace({'Private':0, 'Exec-managerial':1, 'Machine-op-inspct':2,\n",
    "       'Prof-specialty':3, 'Other-service':4, 'Adm-clerical':5, 'Craft-repair':6,\n",
    "       'Transport-moving':7, 'Handlers-cleaners':8, 'Sales':9,\n",
    "       'Farming-fishing':10, 'Tech-support':11, 'Protective-serv':12,\n",
    "       'Armed-Forces':13, 'Priv-house-serv':14})\n",
    "data['relationship'] = data['relationship'].replace({'Not-in-family':0, 'Unmarried':1, 'Own-child':2, 'Other-relative':3,\n",
    "       'Husband':4, 'Wife':5})\n",
    "data['education'] = data['education'].replace({'HS-grad':0, 'Some-college':1, '7th-8th':2, '10th':3, 'Doctorate':4,\n",
    "       'Prof-school':5, 'Bachelors':6, 'Masters':7, '11th':8, 'Assoc-acdm':9,\n",
    "       'Assoc-voc':10, '1st-4th':11, '5th-6th':12, '12th':13, '9th':14, 'Preschool':15})\n",
    "data['marital.status'] = data['marital.status'].replace(['Never-married', 'Divorced', 'Separated', 'Widowed'], 'Single')\n",
    "data['marital.status'] = data['marital.status'].replace(['Married-civ-spouse', 'Married-spouse-absent', 'Married-AF-spouse'], 'Married')\n",
    "data['marital.status'] = data['marital.status'].map({'Married':1, 'Single':0})\n",
    "\n",
    "\n",
    "X = data.iloc[:,:14]\n",
    "y = data.iloc[:,14]\n",
    "\n",
    "\"\"\"\n",
    "Undersample\n",
    "\"\"\"  \n",
    "undersample = RandomUnderSampler(sampling_strategy='majority')\n",
    "X, y = undersample.fit_resample(X,y)\n",
    "\n",
    "\"\"\"\n",
    "Scaling\n",
    "\"\"\" \n",
    "scaler = MinMaxScaler(feature_range=(0,1))\n",
    "rescaledX = scaler.fit_transform(X)\n",
    "\n",
    "\"\"\"\n",
    "Splitting\n",
    "\"\"\"\n",
    "X_train, X_test, y_train, y_test = train_test_split(rescaledX,y,test_size=0.2, random_state=1)\n"
   ]
  },
  {
   "cell_type": "code",
   "execution_count": 701,
   "metadata": {},
   "outputs": [
    {
     "data": {
      "text/plain": [
       "dtype('float64')"
      ]
     },
     "execution_count": 701,
     "metadata": {},
     "output_type": "execute_result"
    }
   ],
   "source": [
    "X_train.dtype"
   ]
  },
  {
   "cell_type": "code",
   "execution_count": 690,
   "metadata": {},
   "outputs": [
    {
     "data": {
      "text/plain": [
       "'Parameters'"
      ]
     },
     "metadata": {},
     "output_type": "display_data"
    },
    {
     "data": {
      "text/plain": [
       "array([[1.2, 0.2],\n",
       "       [0.6, 1.5]])"
      ]
     },
     "metadata": {},
     "output_type": "display_data"
    },
    {
     "data": {
      "text/plain": [
       "'Gradients'"
      ]
     },
     "metadata": {},
     "output_type": "display_data"
    },
    {
     "data": {
      "text/plain": [
       "array([[ 1.3, -0.6],\n",
       "       [ 0.6, -0.1]])"
      ]
     },
     "metadata": {},
     "output_type": "display_data"
    },
    {
     "data": {
      "text/plain": [
       "'Prev Gradients'"
      ]
     },
     "metadata": {},
     "output_type": "display_data"
    },
    {
     "data": {
      "text/plain": [
       "array([[-1.07,  0.26],\n",
       "       [ 0.54,  1.51]])"
      ]
     },
     "metadata": {},
     "output_type": "display_data"
    },
    {
     "data": {
      "text/plain": [
       "'Step'"
      ]
     },
     "metadata": {},
     "output_type": "display_data"
    },
    {
     "data": {
      "text/plain": [
       "array([[0.05, 0.14],\n",
       "       [0.63, 1.25]])"
      ]
     },
     "metadata": {},
     "output_type": "display_data"
    },
    {
     "name": "stdout",
     "output_type": "stream",
     "text": [
      "--------------------\n"
     ]
    },
    {
     "data": {
      "text/plain": [
       "'Parameters'"
      ]
     },
     "metadata": {},
     "output_type": "display_data"
    },
    {
     "data": {
      "text/plain": [
       "array([[ 1.175,  0.27 ],\n",
       "       [-0.156,  2.125]])"
      ]
     },
     "metadata": {},
     "output_type": "display_data"
    }
   ],
   "source": [
    "nn_test = NeuralNetwork(x_no = i, y_no=o, h_no=h)\n",
    "np.random.seed(0)\n",
    "\n",
    "nn_test.params[\"W1\"] = np.array([[1.2, 0.2],[0.6, 1.5]])\n",
    "\n",
    "nn_test.grads[\"W1\"] = np.array([[ 1.3, -0.6],[ 0.6, -0.1]])\n",
    "\n",
    "nn_test.grads_prev[\"W1\"] = np.array([[-1.07, 0.26], [0.54, 1.51]])\n",
    "\n",
    "nn_test.step[\"W1\"] = np.array([[0.05, 0.14], [0.63, 1.25]])\n",
    "\n",
    "display(\"Parameters\",nn_test.params[\"W1\"])\n",
    "display(\"Gradients\",nn_test.grads[\"W1\"])\n",
    "display(\"Prev Gradients\",nn_test.grads_prev[\"W1\"])\n",
    "display(\"Step\",nn_test.step[\"W1\"])\n",
    "\n",
    "print(\"--------------------\")\n",
    "\n",
    "nn_test.rprop(inc=1.2, dec=0.5, step_sizes=(0.0001,50))\n",
    "\n",
    "display(\"Parameters\",nn_test.params[\"W1\"])"
   ]
  },
  {
   "cell_type": "code",
   "execution_count": 17,
   "metadata": {},
   "outputs": [
    {
     "ename": "NameError",
     "evalue": "name 'np' is not defined",
     "output_type": "error",
     "traceback": [
      "\u001b[0;31m---------------------------------------------------------------------------\u001b[0m",
      "\u001b[0;31mNameError\u001b[0m                                 Traceback (most recent call last)",
      "\u001b[0;32m<ipython-input-17-4dfc76b06fe5>\u001b[0m in \u001b[0;36m<module>\u001b[0;34m\u001b[0m\n\u001b[1;32m      3\u001b[0m \u001b[0mo\u001b[0m \u001b[0;34m=\u001b[0m \u001b[0;36m1\u001b[0m\u001b[0;34m\u001b[0m\u001b[0;34m\u001b[0m\u001b[0m\n\u001b[1;32m      4\u001b[0m \u001b[0;34m\u001b[0m\u001b[0m\n\u001b[0;32m----> 5\u001b[0;31m \u001b[0mnn_test\u001b[0m \u001b[0;34m=\u001b[0m \u001b[0mNeuralNetwork\u001b[0m\u001b[0;34m(\u001b[0m\u001b[0mx_no\u001b[0m \u001b[0;34m=\u001b[0m \u001b[0mi\u001b[0m\u001b[0;34m,\u001b[0m \u001b[0my_no\u001b[0m\u001b[0;34m=\u001b[0m\u001b[0mo\u001b[0m\u001b[0;34m,\u001b[0m \u001b[0mh_no\u001b[0m\u001b[0;34m=\u001b[0m\u001b[0mh\u001b[0m\u001b[0;34m)\u001b[0m\u001b[0;34m\u001b[0m\u001b[0;34m\u001b[0m\u001b[0m\n\u001b[0m\u001b[1;32m      6\u001b[0m \u001b[0mnp\u001b[0m\u001b[0;34m.\u001b[0m\u001b[0mrandom\u001b[0m\u001b[0;34m.\u001b[0m\u001b[0mseed\u001b[0m\u001b[0;34m(\u001b[0m\u001b[0;36m0\u001b[0m\u001b[0;34m)\u001b[0m\u001b[0;34m\u001b[0m\u001b[0;34m\u001b[0m\u001b[0m\n\u001b[1;32m      7\u001b[0m \u001b[0;34m\u001b[0m\u001b[0m\n",
      "\u001b[0;32m~/Documents/ML/Coursework/models/NeuralNetwork.py\u001b[0m in \u001b[0;36m__init__\u001b[0;34m(self, x_no, y_no, h_no)\u001b[0m\n\u001b[1;32m     15\u001b[0m \u001b[0;34m\u001b[0m\u001b[0m\n\u001b[1;32m     16\u001b[0m         self.params = {\n\u001b[0;32m---> 17\u001b[0;31m                     \u001b[0;34m\"b1\"\u001b[0m\u001b[0;34m:\u001b[0m \u001b[0mnp\u001b[0m\u001b[0;34m.\u001b[0m\u001b[0mzeros\u001b[0m\u001b[0;34m(\u001b[0m\u001b[0mshape\u001b[0m\u001b[0;34m=\u001b[0m\u001b[0;34m(\u001b[0m\u001b[0mself\u001b[0m\u001b[0;34m.\u001b[0m\u001b[0mh_size\u001b[0m\u001b[0;34m,\u001b[0m\u001b[0;36m1\u001b[0m\u001b[0;34m)\u001b[0m\u001b[0;34m)\u001b[0m\u001b[0;34m,\u001b[0m\u001b[0;34m\u001b[0m\u001b[0;34m\u001b[0m\u001b[0m\n\u001b[0m\u001b[1;32m     18\u001b[0m                     \u001b[0;34m\"W1\"\u001b[0m\u001b[0;34m:\u001b[0m \u001b[0mnp\u001b[0m\u001b[0;34m.\u001b[0m\u001b[0mrandom\u001b[0m\u001b[0;34m.\u001b[0m\u001b[0mrandn\u001b[0m\u001b[0;34m(\u001b[0m\u001b[0mself\u001b[0m\u001b[0;34m.\u001b[0m\u001b[0mh_size\u001b[0m\u001b[0;34m,\u001b[0m \u001b[0mself\u001b[0m\u001b[0;34m.\u001b[0m\u001b[0mi_size\u001b[0m\u001b[0;34m)\u001b[0m \u001b[0;34m/\u001b[0m \u001b[0;34m(\u001b[0m\u001b[0mnp\u001b[0m\u001b[0;34m.\u001b[0m\u001b[0msqrt\u001b[0m\u001b[0;34m(\u001b[0m\u001b[0mself\u001b[0m\u001b[0;34m.\u001b[0m\u001b[0mi_size\u001b[0m\u001b[0;34m)\u001b[0m\u001b[0;34m)\u001b[0m\u001b[0;34m,\u001b[0m\u001b[0;34m\u001b[0m\u001b[0;34m\u001b[0m\u001b[0m\n\u001b[1;32m     19\u001b[0m                     \u001b[0;34m\"b2\"\u001b[0m\u001b[0;34m:\u001b[0m \u001b[0mnp\u001b[0m\u001b[0;34m.\u001b[0m\u001b[0mzeros\u001b[0m\u001b[0;34m(\u001b[0m\u001b[0mshape\u001b[0m\u001b[0;34m=\u001b[0m\u001b[0;34m(\u001b[0m\u001b[0mself\u001b[0m\u001b[0;34m.\u001b[0m\u001b[0mo_size\u001b[0m\u001b[0;34m,\u001b[0m\u001b[0;36m1\u001b[0m\u001b[0;34m)\u001b[0m\u001b[0;34m)\u001b[0m\u001b[0;34m,\u001b[0m\u001b[0;34m\u001b[0m\u001b[0;34m\u001b[0m\u001b[0m\n",
      "\u001b[0;31mNameError\u001b[0m: name 'np' is not defined"
     ]
    }
   ],
   "source": [
    "i = 2\n",
    "h = 2\n",
    "o = 1\n",
    "\n",
    "nn_test = NeuralNetwork(x_no = i, y_no=o, h_no=h)\n",
    "np.random.seed(0)\n",
    "\n",
    "nn_test.params[\"W1\"] = np.array([[1.2, 0.2],[0.6, 1.5]])\n",
    "\n",
    "nn_test.grads[\"W1\"] = np.array([[ 1.3, -0.6],[ 0.6, -0.1]])\n",
    "\n",
    "nn_test.z[\"W1\"] = np.array([[-1.07, 0.26], [0.54, 1.51]])\n",
    "\n",
    "nn_test.step[\"W1\"] = np.array([[0.05, 0.14], [0.63, 1.25]])\n",
    "\n",
    "display(\"Parameters\",nn_test.params[\"W1\"])\n",
    "display(\"Gradients\",nn_test.grads[\"W1\"])\n",
    "display(\"z\",nn_test.z[\"W1\"])\n",
    "display(\"Step\",nn_test.step[\"W1\"])\n",
    "\n",
    "print(\"--------------------\")\n",
    "\n",
    "nn_test.rmsprop(lr=0.01, decay=0.9, eps=0.0001)\n",
    "\n",
    "display(\"Parameters\",nn_test.params[\"W1\"])"
   ]
  },
  {
   "cell_type": "code",
   "execution_count": 15,
   "metadata": {},
   "outputs": [
    {
     "ename": "NameError",
     "evalue": "name 'np' is not defined",
     "output_type": "error",
     "traceback": [
      "\u001b[0;31m---------------------------------------------------------------------------\u001b[0m",
      "\u001b[0;31mNameError\u001b[0m                                 Traceback (most recent call last)",
      "\u001b[0;32m<ipython-input-15-ccbf2c52c05f>\u001b[0m in \u001b[0;36m<module>\u001b[0;34m\u001b[0m\n\u001b[1;32m      3\u001b[0m \u001b[0mo\u001b[0m \u001b[0;34m=\u001b[0m \u001b[0;36m1\u001b[0m\u001b[0;34m\u001b[0m\u001b[0;34m\u001b[0m\u001b[0m\n\u001b[1;32m      4\u001b[0m \u001b[0;34m\u001b[0m\u001b[0m\n\u001b[0;32m----> 5\u001b[0;31m \u001b[0mnn_test\u001b[0m \u001b[0;34m=\u001b[0m \u001b[0mNeuralNetwork\u001b[0m\u001b[0;34m(\u001b[0m\u001b[0mx_no\u001b[0m \u001b[0;34m=\u001b[0m \u001b[0mi\u001b[0m\u001b[0;34m,\u001b[0m \u001b[0my_no\u001b[0m\u001b[0;34m=\u001b[0m\u001b[0mo\u001b[0m\u001b[0;34m,\u001b[0m \u001b[0mh_no\u001b[0m\u001b[0;34m=\u001b[0m\u001b[0mh\u001b[0m\u001b[0;34m)\u001b[0m\u001b[0;34m\u001b[0m\u001b[0;34m\u001b[0m\u001b[0m\n\u001b[0m\u001b[1;32m      6\u001b[0m \u001b[0mnp\u001b[0m\u001b[0;34m.\u001b[0m\u001b[0mrandom\u001b[0m\u001b[0;34m.\u001b[0m\u001b[0mseed\u001b[0m\u001b[0;34m(\u001b[0m\u001b[0;36m0\u001b[0m\u001b[0;34m)\u001b[0m\u001b[0;34m\u001b[0m\u001b[0;34m\u001b[0m\u001b[0m\n\u001b[1;32m      7\u001b[0m \u001b[0;34m\u001b[0m\u001b[0m\n",
      "\u001b[0;32m~/Documents/ML/Coursework/models/NeuralNetwork.py\u001b[0m in \u001b[0;36m__init__\u001b[0;34m(self, x_no, y_no, h_no)\u001b[0m\n\u001b[1;32m     15\u001b[0m \u001b[0;34m\u001b[0m\u001b[0m\n\u001b[1;32m     16\u001b[0m         self.params = {\n\u001b[0;32m---> 17\u001b[0;31m                     \u001b[0;34m\"b1\"\u001b[0m\u001b[0;34m:\u001b[0m \u001b[0mnp\u001b[0m\u001b[0;34m.\u001b[0m\u001b[0mzeros\u001b[0m\u001b[0;34m(\u001b[0m\u001b[0mshape\u001b[0m\u001b[0;34m=\u001b[0m\u001b[0;34m(\u001b[0m\u001b[0mself\u001b[0m\u001b[0;34m.\u001b[0m\u001b[0mh_size\u001b[0m\u001b[0;34m,\u001b[0m\u001b[0;36m1\u001b[0m\u001b[0;34m)\u001b[0m\u001b[0;34m)\u001b[0m\u001b[0;34m,\u001b[0m\u001b[0;34m\u001b[0m\u001b[0;34m\u001b[0m\u001b[0m\n\u001b[0m\u001b[1;32m     18\u001b[0m                     \u001b[0;34m\"W1\"\u001b[0m\u001b[0;34m:\u001b[0m \u001b[0mnp\u001b[0m\u001b[0;34m.\u001b[0m\u001b[0mrandom\u001b[0m\u001b[0;34m.\u001b[0m\u001b[0mrandn\u001b[0m\u001b[0;34m(\u001b[0m\u001b[0mself\u001b[0m\u001b[0;34m.\u001b[0m\u001b[0mh_size\u001b[0m\u001b[0;34m,\u001b[0m \u001b[0mself\u001b[0m\u001b[0;34m.\u001b[0m\u001b[0mi_size\u001b[0m\u001b[0;34m)\u001b[0m \u001b[0;34m/\u001b[0m \u001b[0;34m(\u001b[0m\u001b[0mnp\u001b[0m\u001b[0;34m.\u001b[0m\u001b[0msqrt\u001b[0m\u001b[0;34m(\u001b[0m\u001b[0mself\u001b[0m\u001b[0;34m.\u001b[0m\u001b[0mi_size\u001b[0m\u001b[0;34m)\u001b[0m\u001b[0;34m)\u001b[0m\u001b[0;34m,\u001b[0m\u001b[0;34m\u001b[0m\u001b[0;34m\u001b[0m\u001b[0m\n\u001b[1;32m     19\u001b[0m                     \u001b[0;34m\"b2\"\u001b[0m\u001b[0;34m:\u001b[0m \u001b[0mnp\u001b[0m\u001b[0;34m.\u001b[0m\u001b[0mzeros\u001b[0m\u001b[0;34m(\u001b[0m\u001b[0mshape\u001b[0m\u001b[0;34m=\u001b[0m\u001b[0;34m(\u001b[0m\u001b[0mself\u001b[0m\u001b[0;34m.\u001b[0m\u001b[0mo_size\u001b[0m\u001b[0;34m,\u001b[0m\u001b[0;36m1\u001b[0m\u001b[0;34m)\u001b[0m\u001b[0;34m)\u001b[0m\u001b[0;34m,\u001b[0m\u001b[0;34m\u001b[0m\u001b[0;34m\u001b[0m\u001b[0m\n",
      "\u001b[0;31mNameError\u001b[0m: name 'np' is not defined"
     ]
    }
   ],
   "source": [
    "i = 2\n",
    "h = 2\n",
    "o = 1\n",
    "\n",
    "nn_test = NeuralNetwork(x_no = i, y_no=o, h_no=h)\n",
    "np.random.seed(0)\n",
    "\n",
    "nn_test.params[\"W1\"] = np.array([[1.2, 0.2],[0.6, 1.5]])\n",
    "\n",
    "nn_test.grads[\"W1\"] = np.array([[ 1.3, -0.6],[ 0.6, -0.1]])\n",
    "\n",
    "nn_test.z[\"W1\"] = np.array([[-1.07, 0.26], [0.54, 1.51]])\n",
    "nn_test.o[\"W1\"] = np.array([[-0.70, 0.62], [0.45, 0.15]])\n",
    "\n",
    "nn_test.step[\"W1\"] = np.array([[0.05, 0.14], [0.63, 1.25]])\n",
    "\n",
    "display(\"Parameters\",nn_test.params[\"W1\"])\n",
    "display(\"Gradients\",nn_test.grads[\"W1\"])\n",
    "display(\"z\",nn_test.z[\"W1\"])\n",
    "display(\"Step\",nn_test.step[\"W1\"])\n",
    "\n",
    "print(\"--------------------\")\n",
    "\n",
    "nn_test.adam(t=10, lr=0.01, b=(0.9,0.999), eps=0.0001)\n",
    "\n",
    "display(\"Parameters\",nn_test.params[\"W1\"])"
   ]
  },
  {
   "cell_type": "code",
   "execution_count": 765,
   "metadata": {},
   "outputs": [
    {
     "data": {
      "text/plain": [
       "'Parameters'"
      ]
     },
     "metadata": {},
     "output_type": "display_data"
    },
    {
     "data": {
      "text/plain": [
       "array([[1.2, 0.2],\n",
       "       [0.6, 1.5]])"
      ]
     },
     "metadata": {},
     "output_type": "display_data"
    },
    {
     "data": {
      "text/plain": [
       "'Gradients'"
      ]
     },
     "metadata": {},
     "output_type": "display_data"
    },
    {
     "data": {
      "text/plain": [
       "array([[ 1.3, -0.6],\n",
       "       [ 0.6, -0.1]])"
      ]
     },
     "metadata": {},
     "output_type": "display_data"
    },
    {
     "data": {
      "text/plain": [
       "'z'"
      ]
     },
     "metadata": {},
     "output_type": "display_data"
    },
    {
     "data": {
      "text/plain": [
       "array([[-1.07,  0.26],\n",
       "       [ 0.54,  1.51]])"
      ]
     },
     "metadata": {},
     "output_type": "display_data"
    },
    {
     "data": {
      "text/plain": [
       "'Step'"
      ]
     },
     "metadata": {},
     "output_type": "display_data"
    },
    {
     "data": {
      "text/plain": [
       "array([[0.05, 0.14],\n",
       "       [0.63, 1.25]])"
      ]
     },
     "metadata": {},
     "output_type": "display_data"
    },
    {
     "name": "stdout",
     "output_type": "stream",
     "text": [
      "--------------------\n",
      "0.0 0.01 0.0 0.0 0.009999999999999998\n",
      "0.0 0.01 0.0 0.0 0.009999999999999998\n",
      "1.2 0.01 1.3 -0.461 -0.9570000000000001\n",
      "0.2 0.01 -0.6 0.5940000000000001 0.23540000000000003\n",
      "0.6 0.01 0.6 0.441 0.5616\n",
      "1.5 0.01 -0.1 0.136 1.3715\n",
      "0.0 0.01 0.0 0.0 0.009999999999999998\n",
      "1.3205629190941615 0.01 0.0 0.0 0.009999999999999998\n",
      "-0.6910398159642224 0.01 0.0 0.0 0.009999999999999998\n"
     ]
    },
    {
     "data": {
      "text/plain": [
       "'Parameters'"
      ]
     },
     "metadata": {},
     "output_type": "display_data"
    },
    {
     "data": {
      "text/plain": [
       "array([[1.17054005, 0.24287932],\n",
       "       [0.57578356, 1.50535837]])"
      ]
     },
     "metadata": {},
     "output_type": "display_data"
    }
   ],
   "source": [
    "i = 2\n",
    "h = 2\n",
    "o = 1\n",
    "\n",
    "nn_test = NeuralNetwork(x_no = i, y_no=o, h_no=h)\n",
    "np.random.seed(0)\n",
    "\n",
    "nn_test.params[\"W1\"] = np.array([[1.2, 0.2],[0.6, 1.5]])\n",
    "\n",
    "nn_test.grads[\"W1\"] = np.array([[ 1.3, -0.6],[ 0.6, -0.1]])\n",
    "\n",
    "nn_test.z[\"W1\"] = np.array([[-1.07, 0.26], [0.54, 1.51]])\n",
    "nn_test.o[\"W1\"] = np.array([[-0.70, 0.62], [0.45, 0.15]])\n",
    "\n",
    "nn_test.step[\"W1\"] = np.array([[0.05, 0.14], [0.63, 1.25]])\n",
    "\n",
    "display(\"Parameters\",nn_test.params[\"W1\"])\n",
    "display(\"Gradients\",nn_test.grads[\"W1\"])\n",
    "display(\"z\",nn_test.z[\"W1\"])\n",
    "display(\"Step\",nn_test.step[\"W1\"])\n",
    "\n",
    "print(\"--------------------\")\n",
    "\n",
    "nn_test.wame(lr=0.01, inc=1.2, dec=0.1, a=0.9, step_sizes=(0.01,100), eps=0.0001)\n",
    "\n",
    "display(\"Parameters\",nn_test.params[\"W1\"])"
   ]
  },
  {
   "cell_type": "code",
   "execution_count": 674,
   "metadata": {},
   "outputs": [],
   "source": [
    "def sample_batch(data,batch_size):\n",
    "    st_batch = data.shape[0] // batch_size\n",
    "    idx_end = st_batch * batch_size\n",
    "    batch = np.split(data[:idx_end], st_batch)\n",
    "    \n",
    "    if data.shape[0] % batch_size != 0:\n",
    "        batch += [data[idx_end:]]\n",
    "    \n",
    "    return batch"
   ]
  },
  {
   "cell_type": "code",
   "execution_count": 3,
   "metadata": {},
   "outputs": [
    {
     "ename": "NameError",
     "evalue": "name 'X' is not defined",
     "output_type": "error",
     "traceback": [
      "\u001b[0;31m---------------------------------------------------------------------------\u001b[0m",
      "\u001b[0;31mNameError\u001b[0m                                 Traceback (most recent call last)",
      "\u001b[0;32m<ipython-input-3-e902faa216bb>\u001b[0m in \u001b[0;36m<module>\u001b[0;34m\u001b[0m\n\u001b[0;32m----> 1\u001b[0;31m \u001b[0mnn\u001b[0m \u001b[0;34m=\u001b[0m \u001b[0mNeuralNetwork\u001b[0m\u001b[0;34m(\u001b[0m\u001b[0mx_no\u001b[0m \u001b[0;34m=\u001b[0m \u001b[0mX\u001b[0m\u001b[0;34m.\u001b[0m\u001b[0mshape\u001b[0m\u001b[0;34m[\u001b[0m\u001b[0;36m1\u001b[0m\u001b[0;34m]\u001b[0m\u001b[0;34m,\u001b[0m \u001b[0my_no\u001b[0m\u001b[0;34m=\u001b[0m\u001b[0;36m1\u001b[0m\u001b[0;34m,\u001b[0m \u001b[0mh_no\u001b[0m\u001b[0;34m=\u001b[0m\u001b[0;36m3\u001b[0m\u001b[0;34m)\u001b[0m\u001b[0;34m\u001b[0m\u001b[0;34m\u001b[0m\u001b[0m\n\u001b[0m\u001b[1;32m      2\u001b[0m \u001b[0;34m\u001b[0m\u001b[0m\n\u001b[1;32m      3\u001b[0m \u001b[0mcost_log\u001b[0m \u001b[0;34m=\u001b[0m \u001b[0;34m[\u001b[0m\u001b[0;34m]\u001b[0m\u001b[0;34m\u001b[0m\u001b[0;34m\u001b[0m\u001b[0m\n\u001b[1;32m      4\u001b[0m \u001b[0mepochs\u001b[0m \u001b[0;34m=\u001b[0m \u001b[0;36m2000\u001b[0m\u001b[0;34m\u001b[0m\u001b[0;34m\u001b[0m\u001b[0m\n\u001b[1;32m      5\u001b[0m \u001b[0mbatch_size\u001b[0m \u001b[0;34m=\u001b[0m \u001b[0;36m100\u001b[0m\u001b[0;34m\u001b[0m\u001b[0;34m\u001b[0m\u001b[0m\n",
      "\u001b[0;31mNameError\u001b[0m: name 'X' is not defined"
     ]
    }
   ],
   "source": [
    "nn = NeuralNetwork(x_no = X.shape[1], y_no=1, h_no=3)\n",
    "\n",
    "cost_log = []\n",
    "epochs = 2000\n",
    "batch_size = 100\n",
    "learning_rate = 1\n",
    "\n",
    "X_batch = sample_batch(X_train, batch_size)\n",
    "Y_batch = sample_batch(y_train.to_numpy(),batch_size)\n",
    "\n",
    "for t in range(epochs):\n",
    "    for xs,ys in zip(X_batch,Y_batch):\n",
    "        \n",
    "        nn.forward(xs)\n",
    "        nn.backward(ys)\n",
    "        \n",
    "        nn.wame(lr=0.01, inc=1.2, dec=0.1, a=0.9, step_sizes=(0.01,100), eps=0.0001)\n",
    "        cost_log.append([t,cost])\n",
    "        \n",
    "    cost = nn.cost_comp(ys)    \n",
    "    if t % 100 == 0:\n",
    "        print(f\"Loss after epoch {t}: {round(cost,5)}\", end=\" \")\n",
    "        _, prediction, accuracy = nn.predict(X_test,y_test.to_numpy())\n",
    "        print(f\"Accuracy: {round(accuracy,5)}\")\n",
    "        \n",
    "cost_log = pd.DataFrame(cost_log, columns=[\"epochs\",\"loss\"])"
   ]
  },
  {
   "cell_type": "code",
   "execution_count": 770,
   "metadata": {},
   "outputs": [
    {
     "data": {
      "text/plain": [
       "[<matplotlib.lines.Line2D at 0x12dccea90>]"
      ]
     },
     "execution_count": 770,
     "metadata": {},
     "output_type": "execute_result"
    },
    {
     "data": {
      "image/png": "[encoded data removed]",
      "text/plain": [
       "<Figure size 864x864 with 1 Axes>"
      ]
     },
     "metadata": {
      "needs_background": "light"
     },
     "output_type": "display_data"
    }
   ],
   "source": [
    "fig, ax = plt.subplots(figsize=(12,12))\n",
    "ax.plot(cost_log[\"epochs\"],cost_log[\"loss\"], c=\"b\")"
   ]
  },
  {
   "cell_type": "code",
   "execution_count": 713,
   "metadata": {},
   "outputs": [
    {
     "name": "stdout",
     "output_type": "stream",
     "text": [
      "[1. 1. 0. ... 0. 1. 1.]\n",
      "80.29964934650941\n"
     ]
    }
   ],
   "source": [
    "_, prediction, accuracy = nn.predict(X_test,y_test.to_numpy())\n",
    "print(prediction)\n",
    "print(accuracy)"
   ]
  },
  {
   "cell_type": "code",
   "execution_count": 40,
   "metadata": {},
   "outputs": [
    {
     "name": "stdout",
     "output_type": "stream",
     "text": [
      "\n",
      "A3\n",
      " [[0.74036215 0.84548673 0.65536017 0.78432262]] \n",
      "Y [[0]\n",
      " [1]\n",
      " [1]\n",
      " [0]]\n",
      "\n",
      "dW1\n",
      " [[0.01106705 0.03296694]\n",
      " [0.02382213 0.02572442]] \n",
      "db1\n",
      " [[0.066911  ]\n",
      " [0.05553401]] \n",
      "dW2\n",
      " [[0.18329734 0.10704236]] \n",
      "db2\n",
      " [[0.25638292]]\n",
      "\n",
      "loss 13.891408852104895\n"
     ]
    }
   ],
   "source": [
    "A3 = nn.forward(X)\n",
    "dW1, db1, dW2, db2 = nn.backward(y)\n",
    "loss = nn.cross_entropy(y)\n",
    "nn.W1, nn.b1, nn.W2, nn.b2 = nn.optimizer.step([nn.W1, nn.b1, nn.W2, nn.b2],\n",
    "                                                [nn.dW1, nn.db1, nn.dW2, nn.db2]\n",
    "                                              )\n",
    "\n",
    "print(\"\\nA3\\n\",A3,\"\\nY\",y)\n",
    "print(\"\\ndW1\\n\",dW1,\"\\ndb1\\n\", db1,\"\\ndW2\\n\", dW2,\"\\ndb2\\n\", db2)\n",
    "print(\"\\nloss\", loss)"
   ]
  },
  {
   "cell_type": "code",
   "execution_count": 23,
   "metadata": {},
   "outputs": [
    {
     "name": "stdout",
     "output_type": "stream",
     "text": [
      "\n",
      "W1\n",
      " [[-0.32464041  1.84170949]\n",
      " [-1.79205338  0.83596592]] \n",
      "b1\n",
      " [[0.]\n",
      " [0.]] \n",
      "W2\n",
      " [[1.36465092 0.84682889]] \n",
      "b2\n",
      " [[0.]]\n"
     ]
    }
   ],
   "source": [
    "print(\"\\nW1\\n\",nn.W1,\"\\nb1\\n\",nn.b1,\"\\nW2\\n\",nn.W2,\"\\nb2\\n\",nn.b2)"
   ]
  },
  {
   "cell_type": "code",
   "execution_count": 14,
   "metadata": {},
   "outputs": [],
   "source": [
    "nW1, nb1, nW2, nb2 = nn.optimizer.step([nn.W1, nn.b1, nn.W2, nn.b2],[dW1, db1, dW2, db2])"
   ]
  },
  {
   "cell_type": "code",
   "execution_count": 15,
   "metadata": {},
   "outputs": [
    {
     "name": "stdout",
     "output_type": "stream",
     "text": [
      "\n",
      "W1\n",
      " [[ 0.15213905 -1.0705182 ]\n",
      " [ 1.63331644  0.25091701]] \n",
      "b1\n",
      " [[-1.35825084e-04]\n",
      " [ 1.89082204e-05]] \n",
      "W2\n",
      " [[ 0.94744366 -0.23673202]] \n",
      "b2\n",
      " [[-0.00052213]]\n",
      "None\n"
     ]
    }
   ],
   "source": [
    "print(\"\\nW1\\n\",nW1,\"\\nb1\\n\",nb1,\"\\nW2\\n\",nW2,\"\\nb2\\n\",nb2)"
   ]
  },
  {
   "cell_type": "code",
   "execution_count": null,
   "metadata": {},
   "outputs": [],
   "source": []
  }
 ],
 "metadata": {
  "kernelspec": {
   "display_name": "Python 3",
   "language": "python",
   "name": "python3"
  },
  "language_info": {
   "codemirror_mode": {
    "name": "ipython",
    "version": 3
   },
   "file_extension": ".py",
   "mimetype": "text/x-python",
   "name": "python",
   "nbconvert_exporter": "python",
   "pygments_lexer": "ipython3",
   "version": "3.8.5"
  }
 },
 "nbformat": 4,
 "nbformat_minor": 4
}
